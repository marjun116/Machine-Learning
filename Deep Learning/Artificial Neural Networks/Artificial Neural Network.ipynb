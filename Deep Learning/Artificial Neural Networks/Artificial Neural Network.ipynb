{
 "cells": [
  {
   "cell_type": "code",
   "execution_count": 1,
   "id": "announced-manchester",
   "metadata": {},
   "outputs": [],
   "source": [
    "import numpy as np\n",
    "import pandas as pd\n",
    "import matplotlib.pyplot as plt\n",
    "import tensorflow as tf"
   ]
  },
  {
   "cell_type": "code",
   "execution_count": 2,
   "id": "7bdce634",
   "metadata": {},
   "outputs": [],
   "source": [
    "df = pd.read_csv(\"Churn_Modelling.csv\")\n",
    "X = df.iloc[:, 3:-1].values\n",
    "y = df.iloc[:,-1].values"
   ]
  },
  {
   "cell_type": "code",
   "execution_count": 3,
   "id": "c688a3dc",
   "metadata": {},
   "outputs": [],
   "source": [
    "from sklearn.preprocessing import LabelEncoder\n",
    "le = LabelEncoder()\n",
    "X[:,2] = le.fit_transform(X[:,2])"
   ]
  },
  {
   "cell_type": "code",
   "execution_count": 4,
   "id": "ac88d6f4",
   "metadata": {},
   "outputs": [],
   "source": [
    "from sklearn.compose import ColumnTransformer\n",
    "from sklearn.preprocessing import OneHotEncoder\n",
    "ct = ColumnTransformer(transformers=[('encoder', OneHotEncoder(), [1])], remainder=\"passthrough\")\n",
    "X = np.array(ct.fit_transform(X))"
   ]
  },
  {
   "cell_type": "code",
   "execution_count": 5,
   "id": "82e9ca4b",
   "metadata": {},
   "outputs": [],
   "source": [
    "from sklearn.model_selection import train_test_split\n",
    "X_train, X_test, y_train, y_test = train_test_split(X, y, test_size=0.2, random_state=1)"
   ]
  },
  {
   "cell_type": "code",
   "execution_count": 6,
   "id": "8a71cb37",
   "metadata": {},
   "outputs": [],
   "source": [
    "from sklearn.preprocessing import StandardScaler\n",
    "sc = StandardScaler()\n",
    "X_train = sc.fit_transform(X_train)\n",
    "X_test = sc.transform(X_test)"
   ]
  },
  {
   "cell_type": "markdown",
   "id": "fb286737",
   "metadata": {},
   "source": [
    "## Initializing the ANN"
   ]
  },
  {
   "cell_type": "code",
   "execution_count": 7,
   "id": "612b3a43",
   "metadata": {},
   "outputs": [],
   "source": [
    "ann = tf.keras.models.Sequential()"
   ]
  },
  {
   "cell_type": "markdown",
   "id": "b40a0f4f",
   "metadata": {},
   "source": [
    "## Adding the input layer and the first hidden layer"
   ]
  },
  {
   "cell_type": "code",
   "execution_count": 8,
   "id": "e93a12db",
   "metadata": {},
   "outputs": [],
   "source": [
    "ann.add(tf.keras.layers.Dense(units=6, activation=\"relu\"))\n",
    "ann.add(tf.keras.layers.Dense(units=6, activation=\"relu\"))"
   ]
  },
  {
   "cell_type": "markdown",
   "id": "f0ffdae5",
   "metadata": {},
   "source": [
    "## Adding the output layer"
   ]
  },
  {
   "cell_type": "code",
   "execution_count": 9,
   "id": "ee9b9648",
   "metadata": {},
   "outputs": [],
   "source": [
    "ann.add(tf.keras.layers.Dense(units=1, activation=\"sigmoid\"))"
   ]
  },
  {
   "cell_type": "code",
   "execution_count": 10,
   "id": "0040c845",
   "metadata": {},
   "outputs": [],
   "source": [
    "ann.compile(optimizer=\"adam\",loss=\"binary_crossentropy\",metrics=['accuracy'])"
   ]
  },
  {
   "cell_type": "code",
   "execution_count": 11,
   "id": "95b7dd4f",
   "metadata": {},
   "outputs": [
    {
     "name": "stdout",
     "output_type": "stream",
     "text": [
      "Train on 8000 samples\n",
      "Epoch 1/100\n",
      "8000/8000 [==============================] - 3s 348us/sample - loss: 0.6049 - accuracy: 0.7034\n",
      "Epoch 2/100\n",
      "8000/8000 [==============================] - 1s 91us/sample - loss: 0.4691 - accuracy: 0.7972\n",
      "Epoch 3/100\n",
      "8000/8000 [==============================] - 1s 135us/sample - loss: 0.4501 - accuracy: 0.7972\n",
      "Epoch 4/100\n",
      "8000/8000 [==============================] - 1s 111us/sample - loss: 0.4415 - accuracy: 0.7979\n",
      "Epoch 5/100\n",
      "8000/8000 [==============================] - 1s 95us/sample - loss: 0.4364 - accuracy: 0.8015\n",
      "Epoch 6/100\n",
      "8000/8000 [==============================] - 1s 89us/sample - loss: 0.4321 - accuracy: 0.8049\n",
      "Epoch 7/100\n",
      "8000/8000 [==============================] - 1s 89us/sample - loss: 0.4260 - accuracy: 0.8079\n",
      "Epoch 8/100\n",
      "8000/8000 [==============================] - 1s 93us/sample - loss: 0.4176 - accuracy: 0.8105\n",
      "Epoch 9/100\n",
      "8000/8000 [==============================] - 1s 92us/sample - loss: 0.4081 - accuracy: 0.8135\n",
      "Epoch 10/100\n",
      "8000/8000 [==============================] - 1s 87us/sample - loss: 0.3983 - accuracy: 0.8188\n",
      "Epoch 11/100\n",
      "8000/8000 [==============================] - 1s 86us/sample - loss: 0.3907 - accuracy: 0.8217\n",
      "Epoch 12/100\n",
      "8000/8000 [==============================] - 1s 86us/sample - loss: 0.3848 - accuracy: 0.8305\n",
      "Epoch 13/100\n",
      "8000/8000 [==============================] - 1s 114us/sample - loss: 0.3790 - accuracy: 0.8355\n",
      "Epoch 14/100\n",
      "8000/8000 [==============================] - 1s 103us/sample - loss: 0.3743 - accuracy: 0.8409\n",
      "Epoch 15/100\n",
      "8000/8000 [==============================] - 1s 93us/sample - loss: 0.3703 - accuracy: 0.8440\n",
      "Epoch 16/100\n",
      "8000/8000 [==============================] - 1s 93us/sample - loss: 0.3676 - accuracy: 0.8445\n",
      "Epoch 17/100\n",
      "8000/8000 [==============================] - 1s 90us/sample - loss: 0.3656 - accuracy: 0.8453\n",
      "Epoch 18/100\n",
      "8000/8000 [==============================] - 1s 88us/sample - loss: 0.3641 - accuracy: 0.8461\n",
      "Epoch 19/100\n",
      "8000/8000 [==============================] - 1s 92us/sample - loss: 0.3630 - accuracy: 0.8460\n",
      "Epoch 20/100\n",
      "8000/8000 [==============================] - 1s 91us/sample - loss: 0.3618 - accuracy: 0.8439\n",
      "Epoch 21/100\n",
      "8000/8000 [==============================] - 1s 89us/sample - loss: 0.3611 - accuracy: 0.8457\n",
      "Epoch 22/100\n",
      "8000/8000 [==============================] - 1s 141us/sample - loss: 0.3600 - accuracy: 0.8465\n",
      "Epoch 23/100\n",
      "8000/8000 [==============================] - 1s 111us/sample - loss: 0.3595 - accuracy: 0.8462\n",
      "Epoch 24/100\n",
      "8000/8000 [==============================] - 1s 122us/sample - loss: 0.3586 - accuracy: 0.8464\n",
      "Epoch 25/100\n",
      "8000/8000 [==============================] - 1s 160us/sample - loss: 0.3575 - accuracy: 0.8468\n",
      "Epoch 26/100\n",
      "8000/8000 [==============================] - 1s 112us/sample - loss: 0.3567 - accuracy: 0.8474\n",
      "Epoch 27/100\n",
      "8000/8000 [==============================] - 1s 143us/sample - loss: 0.3560 - accuracy: 0.8469\n",
      "Epoch 28/100\n",
      "8000/8000 [==============================] - 1s 135us/sample - loss: 0.3555 - accuracy: 0.8474\n",
      "Epoch 29/100\n",
      "8000/8000 [==============================] - 1s 106us/sample - loss: 0.3546 - accuracy: 0.8490\n",
      "Epoch 30/100\n",
      "8000/8000 [==============================] - 1s 116us/sample - loss: 0.3538 - accuracy: 0.8499\n",
      "Epoch 31/100\n",
      "8000/8000 [==============================] - 1s 133us/sample - loss: 0.3528 - accuracy: 0.8503\n",
      "Epoch 32/100\n",
      "8000/8000 [==============================] - 1s 110us/sample - loss: 0.3525 - accuracy: 0.8512\n",
      "Epoch 33/100\n",
      "8000/8000 [==============================] - 1s 94us/sample - loss: 0.3514 - accuracy: 0.8512\n",
      "Epoch 34/100\n",
      "8000/8000 [==============================] - 1s 90us/sample - loss: 0.3505 - accuracy: 0.8519\n",
      "Epoch 35/100\n",
      "8000/8000 [==============================] - 1s 89us/sample - loss: 0.3496 - accuracy: 0.8529\n",
      "Epoch 36/100\n",
      "8000/8000 [==============================] - 1s 90us/sample - loss: 0.3492 - accuracy: 0.8534\n",
      "Epoch 37/100\n",
      "8000/8000 [==============================] - 1s 94us/sample - loss: 0.3485 - accuracy: 0.8551\n",
      "Epoch 38/100\n",
      "8000/8000 [==============================] - 1s 92us/sample - loss: 0.3475 - accuracy: 0.8562\n",
      "Epoch 39/100\n",
      "8000/8000 [==============================] - 1s 89us/sample - loss: 0.3468 - accuracy: 0.8556\n",
      "Epoch 40/100\n",
      "8000/8000 [==============================] - 1s 91us/sample - loss: 0.3463 - accuracy: 0.8565\n",
      "Epoch 41/100\n",
      "8000/8000 [==============================] - 1s 88us/sample - loss: 0.3459 - accuracy: 0.8568\n",
      "Epoch 42/100\n",
      "8000/8000 [==============================] - 1s 89us/sample - loss: 0.3455 - accuracy: 0.8574\n",
      "Epoch 43/100\n",
      "8000/8000 [==============================] - 1s 95us/sample - loss: 0.3446 - accuracy: 0.8593\n",
      "Epoch 44/100\n",
      "8000/8000 [==============================] - 1s 93us/sample - loss: 0.3443 - accuracy: 0.8595\n",
      "Epoch 45/100\n",
      "8000/8000 [==============================] - 1s 91us/sample - loss: 0.3440 - accuracy: 0.8584\n",
      "Epoch 46/100\n",
      "8000/8000 [==============================] - 1s 89us/sample - loss: 0.3435 - accuracy: 0.8590\n",
      "Epoch 47/100\n",
      "8000/8000 [==============================] - 1s 96us/sample - loss: 0.3433 - accuracy: 0.8593\n",
      "Epoch 48/100\n",
      "8000/8000 [==============================] - 1s 93us/sample - loss: 0.3432 - accuracy: 0.8597\n",
      "Epoch 49/100\n",
      "8000/8000 [==============================] - 1s 97us/sample - loss: 0.3429 - accuracy: 0.8589\n",
      "Epoch 50/100\n",
      "8000/8000 [==============================] - 1s 90us/sample - loss: 0.3423 - accuracy: 0.8595\n",
      "Epoch 51/100\n",
      "8000/8000 [==============================] - 1s 96us/sample - loss: 0.3421 - accuracy: 0.8602\n",
      "Epoch 52/100\n",
      "8000/8000 [==============================] - 1s 112us/sample - loss: 0.3423 - accuracy: 0.8586\n",
      "Epoch 53/100\n",
      "8000/8000 [==============================] - 1s 91us/sample - loss: 0.3416 - accuracy: 0.8606\n",
      "Epoch 54/100\n",
      "8000/8000 [==============================] - 1s 83us/sample - loss: 0.3418 - accuracy: 0.8597\n",
      "Epoch 55/100\n",
      "8000/8000 [==============================] - 1s 83us/sample - loss: 0.3414 - accuracy: 0.8600\n",
      "Epoch 56/100\n",
      "8000/8000 [==============================] - 1s 85us/sample - loss: 0.3409 - accuracy: 0.8616\n",
      "Epoch 57/100\n",
      "8000/8000 [==============================] - 1s 83us/sample - loss: 0.3410 - accuracy: 0.8610\n",
      "Epoch 58/100\n",
      "8000/8000 [==============================] - 1s 84us/sample - loss: 0.3409 - accuracy: 0.8621\n",
      "Epoch 59/100\n",
      "8000/8000 [==============================] - 1s 83us/sample - loss: 0.3407 - accuracy: 0.8610\n",
      "Epoch 60/100\n",
      "8000/8000 [==============================] - 1s 83us/sample - loss: 0.3403 - accuracy: 0.8616\n",
      "Epoch 61/100\n",
      "8000/8000 [==============================] - 1s 89us/sample - loss: 0.3402 - accuracy: 0.8612\n",
      "Epoch 62/100\n",
      "8000/8000 [==============================] - 1s 83us/sample - loss: 0.3399 - accuracy: 0.8611\n",
      "Epoch 63/100\n",
      "8000/8000 [==============================] - 1s 83us/sample - loss: 0.3403 - accuracy: 0.8616\n",
      "Epoch 64/100\n",
      "8000/8000 [==============================] - 1s 83us/sample - loss: 0.3394 - accuracy: 0.8620\n",
      "Epoch 65/100\n",
      "8000/8000 [==============================] - 1s 81us/sample - loss: 0.3394 - accuracy: 0.8609\n",
      "Epoch 66/100\n",
      "8000/8000 [==============================] - 1s 92us/sample - loss: 0.3394 - accuracy: 0.8618\n",
      "Epoch 67/100\n",
      "8000/8000 [==============================] - 1s 100us/sample - loss: 0.3393 - accuracy: 0.8624\n",
      "Epoch 68/100\n",
      "8000/8000 [==============================] - 1s 83us/sample - loss: 0.3387 - accuracy: 0.8611\n",
      "Epoch 69/100\n",
      "8000/8000 [==============================] - 1s 86us/sample - loss: 0.3390 - accuracy: 0.8606\n",
      "Epoch 70/100\n",
      "8000/8000 [==============================] - 1s 84us/sample - loss: 0.3383 - accuracy: 0.8615\n",
      "Epoch 71/100\n",
      "8000/8000 [==============================] - 1s 84us/sample - loss: 0.3386 - accuracy: 0.8608\n",
      "Epoch 72/100\n",
      "8000/8000 [==============================] - 1s 83us/sample - loss: 0.3376 - accuracy: 0.8629\n",
      "Epoch 73/100\n",
      "8000/8000 [==============================] - 1s 82us/sample - loss: 0.3378 - accuracy: 0.8619\n",
      "Epoch 74/100\n",
      "8000/8000 [==============================] - 1s 84us/sample - loss: 0.3377 - accuracy: 0.8606\n",
      "Epoch 75/100\n",
      "8000/8000 [==============================] - 1s 87us/sample - loss: 0.3382 - accuracy: 0.8611\n",
      "Epoch 76/100\n"
     ]
    },
    {
     "name": "stdout",
     "output_type": "stream",
     "text": [
      "8000/8000 [==============================] - 1s 85us/sample - loss: 0.3374 - accuracy: 0.8622s - loss: 0.3344 - accuracy\n",
      "Epoch 77/100\n",
      "8000/8000 [==============================] - 1s 82us/sample - loss: 0.3374 - accuracy: 0.8611\n",
      "Epoch 78/100\n",
      "8000/8000 [==============================] - 1s 87us/sample - loss: 0.3374 - accuracy: 0.8622\n",
      "Epoch 79/100\n",
      "8000/8000 [==============================] - 1s 83us/sample - loss: 0.3374 - accuracy: 0.8620\n",
      "Epoch 80/100\n",
      "8000/8000 [==============================] - 1s 84us/sample - loss: 0.3370 - accuracy: 0.8614\n",
      "Epoch 81/100\n",
      "8000/8000 [==============================] - 1s 83us/sample - loss: 0.3373 - accuracy: 0.8621\n",
      "Epoch 82/100\n",
      "8000/8000 [==============================] - 1s 86us/sample - loss: 0.3369 - accuracy: 0.8619\n",
      "Epoch 83/100\n",
      "8000/8000 [==============================] - 1s 82us/sample - loss: 0.3370 - accuracy: 0.8622\n",
      "Epoch 84/100\n",
      "8000/8000 [==============================] - 1s 82us/sample - loss: 0.3362 - accuracy: 0.8627\n",
      "Epoch 85/100\n",
      "8000/8000 [==============================] - 1s 82us/sample - loss: 0.3365 - accuracy: 0.8627\n",
      "Epoch 86/100\n",
      "8000/8000 [==============================] - 1s 84us/sample - loss: 0.3366 - accuracy: 0.8602\n",
      "Epoch 87/100\n",
      "8000/8000 [==============================] - 1s 87us/sample - loss: 0.3365 - accuracy: 0.8616\n",
      "Epoch 88/100\n",
      "8000/8000 [==============================] - 1s 83us/sample - loss: 0.3362 - accuracy: 0.8619\n",
      "Epoch 89/100\n",
      "8000/8000 [==============================] - 1s 91us/sample - loss: 0.3366 - accuracy: 0.8630\n",
      "Epoch 90/100\n",
      "8000/8000 [==============================] - 1s 82us/sample - loss: 0.3363 - accuracy: 0.8615\n",
      "Epoch 91/100\n",
      "8000/8000 [==============================] - 1s 84us/sample - loss: 0.3362 - accuracy: 0.8625\n",
      "Epoch 92/100\n",
      "8000/8000 [==============================] - 1s 84us/sample - loss: 0.3361 - accuracy: 0.8626\n",
      "Epoch 93/100\n",
      "8000/8000 [==============================] - 1s 83us/sample - loss: 0.3362 - accuracy: 0.8644\n",
      "Epoch 94/100\n",
      "8000/8000 [==============================] - 1s 83us/sample - loss: 0.3362 - accuracy: 0.8624\n",
      "Epoch 95/100\n",
      "8000/8000 [==============================] - 1s 82us/sample - loss: 0.3358 - accuracy: 0.8625\n",
      "Epoch 96/100\n",
      "8000/8000 [==============================] - 1s 94us/sample - loss: 0.3355 - accuracy: 0.8626\n",
      "Epoch 97/100\n",
      "8000/8000 [==============================] - 1s 97us/sample - loss: 0.3361 - accuracy: 0.8627\n",
      "Epoch 98/100\n",
      "8000/8000 [==============================] - 1s 83us/sample - loss: 0.3360 - accuracy: 0.8614\n",
      "Epoch 99/100\n",
      "8000/8000 [==============================] - 1s 82us/sample - loss: 0.3358 - accuracy: 0.8635\n",
      "Epoch 100/100\n",
      "8000/8000 [==============================] - 1s 83us/sample - loss: 0.3353 - accuracy: 0.8631\n"
     ]
    },
    {
     "data": {
      "text/plain": [
       "<tensorflow.python.keras.callbacks.History at 0x1a4cd21198>"
      ]
     },
     "execution_count": 11,
     "metadata": {},
     "output_type": "execute_result"
    }
   ],
   "source": [
    "ann.fit(X_train, y_train, batch_size=32, epochs=100)"
   ]
  },
  {
   "cell_type": "markdown",
   "id": "fad777d2",
   "metadata": {},
   "source": [
    "Use our ANN model to predict if the customer with the following informations will leave the bank: \n",
    "\n",
    "Geography: France\n",
    "\n",
    "Credit Score: 600\n",
    "\n",
    "Gender: Male\n",
    "\n",
    "Age: 40 years old\n",
    "\n",
    "Tenure: 3 years\n",
    "\n",
    "Balance: \\$ 60000\n",
    "\n",
    "Number of Products: 2\n",
    "\n",
    "Does this customer have a credit card ? Yes\n",
    "\n",
    "Is this customer an Active Member: Yes\n",
    "\n",
    "Estimated Salary: \\$ 50000\n",
    "\n",
    "So, should we say goodbye to that customer ?"
   ]
  },
  {
   "cell_type": "code",
   "execution_count": 12,
   "id": "684d665f",
   "metadata": {},
   "outputs": [
    {
     "data": {
      "text/plain": [
       "array([[False]])"
      ]
     },
     "execution_count": 12,
     "metadata": {},
     "output_type": "execute_result"
    }
   ],
   "source": [
    "ann.predict(sc.transform([[1,0,0,600,1,40,3,60000,2,1,1,50000]])) > 0.5"
   ]
  },
  {
   "cell_type": "code",
   "execution_count": 13,
   "id": "48786d4a",
   "metadata": {},
   "outputs": [
    {
     "name": "stdout",
     "output_type": "stream",
     "text": [
      "[[0 0]\n",
      " [0 0]\n",
      " [0 0]\n",
      " ...\n",
      " [0 0]\n",
      " [0 0]\n",
      " [0 0]]\n"
     ]
    }
   ],
   "source": [
    "y_pred = ann.predict(X_test)\n",
    "y_pred = (y_pred > 0.5)\n",
    "print(np.concatenate((y_pred.reshape(len(y_pred),1), y_test.reshape(len(y_test),1)),1))"
   ]
  },
  {
   "cell_type": "code",
   "execution_count": 14,
   "id": "8356453f",
   "metadata": {},
   "outputs": [
    {
     "name": "stdout",
     "output_type": "stream",
     "text": [
      "[[1532   53]\n",
      " [ 214  201]]\n"
     ]
    },
    {
     "data": {
      "text/plain": [
       "0.8665"
      ]
     },
     "execution_count": 14,
     "metadata": {},
     "output_type": "execute_result"
    }
   ],
   "source": [
    "from sklearn.metrics import confusion_matrix, accuracy_score\n",
    "cm = confusion_matrix(y_test, y_pred)\n",
    "print(cm)\n",
    "accuracy_score(y_test, y_pred)"
   ]
  }
 ],
 "metadata": {
  "kernelspec": {
   "display_name": "Python 3",
   "language": "python",
   "name": "python3"
  },
  "language_info": {
   "codemirror_mode": {
    "name": "ipython",
    "version": 3
   },
   "file_extension": ".py",
   "mimetype": "text/x-python",
   "name": "python",
   "nbconvert_exporter": "python",
   "pygments_lexer": "ipython3",
   "version": "3.6.13"
  }
 },
 "nbformat": 4,
 "nbformat_minor": 5
}

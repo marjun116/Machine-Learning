{
 "cells": [
  {
   "cell_type": "code",
   "execution_count": 1,
   "id": "710c4f4d",
   "metadata": {},
   "outputs": [],
   "source": [
    "import tensorflow as tf\n",
    "from keras_preprocessing.image import ImageDataGenerator"
   ]
  },
  {
   "cell_type": "code",
   "execution_count": 2,
   "id": "722eea99",
   "metadata": {},
   "outputs": [
    {
     "name": "stdout",
     "output_type": "stream",
     "text": [
      "Found 8000 images belonging to 2 classes.\n"
     ]
    }
   ],
   "source": [
    "train_datagen = ImageDataGenerator(rescale = 1./255,\n",
    "                                   shear_range = 0.2,\n",
    "                                   zoom_range = 0.2,\n",
    "                                   horizontal_flip = True)\n",
    "training_set = train_datagen.flow_from_directory('dataset/training_set',\n",
    "                                                 target_size = (64, 64),\n",
    "                                                 batch_size = 32,\n",
    "                                                 class_mode = 'binary')"
   ]
  },
  {
   "cell_type": "code",
   "execution_count": 3,
   "id": "ff9408f7",
   "metadata": {},
   "outputs": [
    {
     "name": "stdout",
     "output_type": "stream",
     "text": [
      "Found 2000 images belonging to 2 classes.\n"
     ]
    }
   ],
   "source": [
    "test_datagen = ImageDataGenerator(rescale = 1./255)\n",
    "test_set = test_datagen.flow_from_directory('dataset/test_set',\n",
    "                                            target_size = (64, 64),\n",
    "                                            batch_size = 32,\n",
    "                                            class_mode = 'binary')"
   ]
  },
  {
   "cell_type": "code",
   "execution_count": 4,
   "id": "02b1bee2",
   "metadata": {},
   "outputs": [],
   "source": [
    "cnn = tf.keras.models.Sequential()"
   ]
  },
  {
   "cell_type": "markdown",
   "id": "65f89ce0",
   "metadata": {},
   "source": [
    "## Convolution"
   ]
  },
  {
   "cell_type": "code",
   "execution_count": 5,
   "id": "b239ff84",
   "metadata": {},
   "outputs": [],
   "source": [
    "cnn.add(tf.keras.layers.Conv2D(filters=32, kernel_size=3, activation='relu', input_shape=[64,64,3]))"
   ]
  },
  {
   "cell_type": "markdown",
   "id": "676545c4",
   "metadata": {},
   "source": [
    "## Pooling"
   ]
  },
  {
   "cell_type": "code",
   "execution_count": 6,
   "id": "3611e23a",
   "metadata": {},
   "outputs": [],
   "source": [
    "cnn.add(tf.keras.layers.MaxPool2D(pool_size=2, strides=2))"
   ]
  },
  {
   "cell_type": "markdown",
   "id": "8acc9426",
   "metadata": {},
   "source": [
    "## Adding a second convolution layer"
   ]
  },
  {
   "cell_type": "code",
   "execution_count": 7,
   "id": "61f4fa79",
   "metadata": {},
   "outputs": [],
   "source": [
    "cnn.add(tf.keras.layers.Conv2D(filters=32, kernel_size=3, activation='relu'))\n",
    "cnn.add(tf.keras.layers.MaxPool2D(pool_size=2, strides=2))"
   ]
  },
  {
   "cell_type": "markdown",
   "id": "cd0c77fd",
   "metadata": {},
   "source": [
    "## Flattening"
   ]
  },
  {
   "cell_type": "code",
   "execution_count": 8,
   "id": "9e582162",
   "metadata": {},
   "outputs": [],
   "source": [
    "cnn.add(tf.keras.layers.Flatten())"
   ]
  },
  {
   "cell_type": "code",
   "execution_count": 9,
   "id": "fbb18bfa",
   "metadata": {},
   "outputs": [],
   "source": [
    "cnn.add(tf.keras.layers.Dense(units=128, activation='relu'))"
   ]
  },
  {
   "cell_type": "code",
   "execution_count": 10,
   "id": "6032b9e6",
   "metadata": {},
   "outputs": [],
   "source": [
    "cnn.add(tf.keras.layers.Dense(units=1, activation='sigmoid'))"
   ]
  },
  {
   "cell_type": "code",
   "execution_count": 11,
   "id": "fdaa8054",
   "metadata": {},
   "outputs": [],
   "source": [
    "cnn.compile(optimizer = 'adam', loss = 'binary_crossentropy', metrics = ['accuracy'])"
   ]
  },
  {
   "cell_type": "code",
   "execution_count": 12,
   "id": "aaa4d0b7",
   "metadata": {},
   "outputs": [
    {
     "name": "stdout",
     "output_type": "stream",
     "text": [
      "Train for 250 steps, validate for 63 steps\n",
      "Epoch 1/25\n",
      "250/250 [==============================] - 124s 496ms/step - loss: 0.6810 - accuracy: 0.5627 - val_loss: 0.6626 - val_accuracy: 0.6100\n",
      "Epoch 2/25\n",
      "250/250 [==============================] - 116s 466ms/step - loss: 0.6324 - accuracy: 0.6492 - val_loss: 0.5840 - val_accuracy: 0.7115\n",
      "Epoch 3/25\n",
      "250/250 [==============================] - 113s 453ms/step - loss: 0.5786 - accuracy: 0.6974 - val_loss: 0.6201 - val_accuracy: 0.6700\n",
      "Epoch 4/25\n",
      "250/250 [==============================] - 115s 462ms/step - loss: 0.5423 - accuracy: 0.7283 - val_loss: 0.5713 - val_accuracy: 0.7170\n",
      "Epoch 5/25\n",
      "250/250 [==============================] - 118s 473ms/step - loss: 0.5128 - accuracy: 0.7427 - val_loss: 0.5169 - val_accuracy: 0.7420\n",
      "Epoch 6/25\n",
      "250/250 [==============================] - 118s 473ms/step - loss: 0.4926 - accuracy: 0.7576 - val_loss: 0.5038 - val_accuracy: 0.7725\n",
      "Epoch 7/25\n",
      "250/250 [==============================] - 118s 471ms/step - loss: 0.4813 - accuracy: 0.7746 - val_loss: 0.4939 - val_accuracy: 0.7750\n",
      "Epoch 8/25\n",
      "250/250 [==============================] - 119s 475ms/step - loss: 0.4645 - accuracy: 0.7785 - val_loss: 0.4915 - val_accuracy: 0.7740\n",
      "Epoch 9/25\n",
      "250/250 [==============================] - 119s 476ms/step - loss: 0.4456 - accuracy: 0.7853 - val_loss: 0.4788 - val_accuracy: 0.7795\n",
      "Epoch 10/25\n",
      "250/250 [==============================] - 109s 437ms/step - loss: 0.4232 - accuracy: 0.8036 - val_loss: 0.4843 - val_accuracy: 0.7690\n",
      "Epoch 11/25\n",
      "250/250 [==============================] - 106s 424ms/step - loss: 0.4046 - accuracy: 0.8136 - val_loss: 0.4949 - val_accuracy: 0.7810\n",
      "Epoch 12/25\n",
      "250/250 [==============================] - 108s 434ms/step - loss: 0.3882 - accuracy: 0.8226 - val_loss: 0.4613 - val_accuracy: 0.7860\n",
      "Epoch 13/25\n",
      "250/250 [==============================] - 105s 420ms/step - loss: 0.3732 - accuracy: 0.8329 - val_loss: 0.5016 - val_accuracy: 0.7785\n",
      "Epoch 14/25\n",
      "250/250 [==============================] - 100s 401ms/step - loss: 0.3530 - accuracy: 0.8436 - val_loss: 0.4999 - val_accuracy: 0.7885\n",
      "Epoch 15/25\n",
      "250/250 [==============================] - 100s 399ms/step - loss: 0.3428 - accuracy: 0.8470 - val_loss: 0.4713 - val_accuracy: 0.7950\n",
      "Epoch 16/25\n",
      "250/250 [==============================] - 99s 395ms/step - loss: 0.3202 - accuracy: 0.8589 - val_loss: 0.4956 - val_accuracy: 0.7845\n",
      "Epoch 17/25\n",
      "250/250 [==============================] - 99s 397ms/step - loss: 0.2961 - accuracy: 0.8716 - val_loss: 0.5086 - val_accuracy: 0.8000\n",
      "Epoch 18/25\n",
      "250/250 [==============================] - 99s 396ms/step - loss: 0.2863 - accuracy: 0.8789 - val_loss: 0.5740 - val_accuracy: 0.7730\n",
      "Epoch 19/25\n",
      "250/250 [==============================] - 99s 396ms/step - loss: 0.2644 - accuracy: 0.8900 - val_loss: 0.5251 - val_accuracy: 0.8025\n",
      "Epoch 20/25\n",
      "250/250 [==============================] - 100s 399ms/step - loss: 0.2544 - accuracy: 0.8961 - val_loss: 0.5467 - val_accuracy: 0.7925\n",
      "Epoch 21/25\n",
      "250/250 [==============================] - 101s 403ms/step - loss: 0.2321 - accuracy: 0.9044 - val_loss: 0.6318 - val_accuracy: 0.7655\n",
      "Epoch 22/25\n",
      "250/250 [==============================] - 99s 396ms/step - loss: 0.2127 - accuracy: 0.9124 - val_loss: 0.5567 - val_accuracy: 0.7980\n",
      "Epoch 23/25\n",
      "250/250 [==============================] - 99s 396ms/step - loss: 0.2019 - accuracy: 0.9189 - val_loss: 0.5587 - val_accuracy: 0.8055\n",
      "Epoch 24/25\n",
      "250/250 [==============================] - 99s 397ms/step - loss: 0.1922 - accuracy: 0.9209 - val_loss: 0.6375 - val_accuracy: 0.7820\n",
      "Epoch 25/25\n",
      "250/250 [==============================] - 85s 339ms/step - loss: 0.1830 - accuracy: 0.9291 - val_loss: 0.5683 - val_accuracy: 0.8055\n"
     ]
    },
    {
     "data": {
      "text/plain": [
       "<tensorflow.python.keras.callbacks.History at 0x639d33048>"
      ]
     },
     "execution_count": 12,
     "metadata": {},
     "output_type": "execute_result"
    }
   ],
   "source": [
    "cnn.fit(x = training_set, validation_data = test_set, epochs = 25)"
   ]
  },
  {
   "cell_type": "code",
   "execution_count": 16,
   "id": "ebbb4ddf",
   "metadata": {},
   "outputs": [
    {
     "name": "stdout",
     "output_type": "stream",
     "text": [
      "dog\n"
     ]
    }
   ],
   "source": [
    "import numpy as np\n",
    "from keras_preprocessing import image\n",
    "test_image = image.load_img('dataset/single_prediction/cat_or_dog_1.jpg', target_size = (64, 64))\n",
    "test_image = image.img_to_array(test_image)\n",
    "test_image = np.expand_dims(test_image, axis = 0)\n",
    "result = cnn.predict(test_image)\n",
    "training_set.class_indices\n",
    "if result[0][0] == 1:\n",
    "  prediction = 'dog'\n",
    "else:\n",
    "  prediction = 'cat'\n",
    "\n",
    "print(prediction)"
   ]
  }
 ],
 "metadata": {
  "kernelspec": {
   "display_name": "Python 3",
   "language": "python",
   "name": "python3"
  },
  "language_info": {
   "codemirror_mode": {
    "name": "ipython",
    "version": 3
   },
   "file_extension": ".py",
   "mimetype": "text/x-python",
   "name": "python",
   "nbconvert_exporter": "python",
   "pygments_lexer": "ipython3",
   "version": "3.6.13"
  }
 },
 "nbformat": 4,
 "nbformat_minor": 5
}
